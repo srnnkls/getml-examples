{
 "cells": [
  {
   "cell_type": "code",
   "execution_count": 1,
   "metadata": {
    "tags": [
     "hide_input"
    ]
   },
   "outputs": [],
   "source": [
    "# IPython magic\n",
    "from IPython.display import Image, HTML"
   ]
  },
  {
   "cell_type": "markdown",
   "metadata": {
    "tags": [
     "hide_input"
    ]
   },
   "source": [
    "# Occupancy detection - A multivariate time series example"
   ]
  },
  {
   "cell_type": "markdown",
   "metadata": {},
   "source": [
    "In this tutorial, you will discover how to apply getML to multivariate time series. Therefore you will learn how to\n",
    "\n",
    "1. [Interpret a time series as a relational data model](#make-the-data-model-relational)\n",
    "\n",
    "2. [Correctly set up the data model](#defining-the-data-model)\n",
    "\n",
    "3. [Study the resulting features using the getML monitor](#studying-the-features)\n",
    "\n",
    "Our use case is a public domain data set for binary classification (room occupancy) from Temperature, Humidity, Light and CO2. The results achieved using getML excel all published results on this data set. Note that this is not only a neat use case for machine learning algorithms but a real-world application with tangible consequences: If room occupancy is known with sufficient certainty it can be applied to the control systems of a building. The saving in energy and money can be [up to 50 %](https://ieeexplore.ieee.org/document/7566062). If you want to follow along the code sections of this tutorial, make sure to [download](https://getml.com/product) and [install](https://docs.getml.com/latest/home/installation/installation.html) getML. \n",
    "\n",
    "\n",
    "**Introduction**\n",
    "\n",
    "Usually, getML is considered as a tool for feature engineering an machine learning on relational data sets. Why can we apply it to (multivariate) time series?\n",
    "\n",
    "The key is a _self-join_. Instead of creating feature my merging and aggregating peripheral tables in a relational data model, for a time-series, we perform the same operations on the population table itself. This results in features like these\n",
    "\n",
    "* Aggregations over time, such as the average value of some column for the last 3 days.\n",
    "\n",
    "* Seasonal effects, such as today is a Wednesday, so let's get the average value for the last four Wednesdays.\n",
    "\n",
    "* Lag variables, such as get the value of some column from two hours ago.\n",
    "\n",
    "Using getML's algorithms for relational learning, we can extract all of these features automatically. Having created a flat table of such features, we can then apply state-of-the-art machine learning algorithms, like xgboost. As you will see in this example, this performs even better than traditional time series analysis.\n",
    "\n",
    "The present analysis is based on a public domain time series dataset. It is available in the [UC Irvine Machine Learning Repository](http://archive.ics.uci.edu/ml/datasets/Occupancy+Detection+). The challenge is straightforward: We want to predict whether an office room is occupied at a given moment in time using sensor data. The data is measured about once a minute. Ground-truth occupancy was obtained from time-stamped pictures. The available columns are\n",
    "\n",
    "* Date, year-month-day hour:minute:second\n",
    "* Temperature, in Celsius\n",
    "* Relative Humidity, %\n",
    "* Light, in Lux\n",
    "* CO2, in ppm\n",
    "* Humidity Ratio, Derived quantity from temperature and relative humidity, in kgwater-vapor/kg-air\n",
    "* Occupancy, 0 or 1, 0 for not occupied, 1 for occupied status\n",
    "\n",
    "As a reference and benchmark, we use [this paper](https://www.researchgate.net/profile/Luis_Candanedo_Ibarra/publication/285627413_Accurate_occupancy_detection_of_an_office_room_from_light_temperature_humidity_and_CO2_measurements_using_statistical_learning_models/links/5b1d843ea6fdcca67b690c28/Accurate-occupancy-detection-of-an-office-room-from-light-temperature-humidity-and-CO2-measurements-using-statistical-learning-models.pdf):\n",
    "\n",
    "* Accurate occupancy detection of an office room from light, temperature, humidity and CO2 measurements using statistical learning models. Luis M. Candanedo, Veronique Feldheim. Energy and Buildings. Volume 112, 15 January 2016, Pages 28-39.\n",
    "\n",
    "The authors apply various Artificial Neural Network algorithms to the data set at hand and achieved accuracies between 80.324% (Batch  Back algorithm) and 99.061% (Limited Memory Quasi-Newton algorithm)."
   ]
  },
  {
   "cell_type": "markdown",
   "metadata": {},
   "source": [
    "## Data preparation"
   ]
  },
  {
   "cell_type": "code",
   "execution_count": 2,
   "metadata": {},
   "outputs": [
    {
     "name": "stdout",
     "output_type": "stream",
     "text": [
      "getML version: 0.10.0\n"
     ]
    }
   ],
   "source": [
    "import os\n",
    "from urllib import request\n",
    "import numpy as np\n",
    "import pandas as pd\n",
    "\n",
    "import getml\n",
    "print(\"getML version: {}\".format(getml.__version__))"
   ]
  },
  {
   "cell_type": "markdown",
   "metadata": {},
   "source": [
    "First, we set the project"
   ]
  },
  {
   "cell_type": "code",
   "execution_count": 3,
   "metadata": {},
   "outputs": [
    {
     "name": "stdout",
     "output_type": "stream",
     "text": [
      "Creating new project 'occupancy_detection'\n"
     ]
    }
   ],
   "source": [
    "getml.engine.set_project('occupancy_detection')"
   ]
  },
  {
   "cell_type": "markdown",
   "metadata": {},
   "source": [
    "The data set can be downloaded directly from GitHub. It is conveniently separated into a training, a validation and a testing set. This allows us to directly benchmark our results against the results of the original paper later."
   ]
  },
  {
   "cell_type": "code",
   "execution_count": 4,
   "metadata": {},
   "outputs": [],
   "source": [
    "fnames = [\n",
    "    'datatraining.txt',\n",
    "    'datatest.txt',\n",
    "    'datatest2.txt'\n",
    "]\n",
    "\n",
    "for fname in fnames:\n",
    "    if not os.path.exists(fname):\n",
    "        fname, res = request.urlretrieve(\n",
    "            \"https://raw.githubusercontent.com/LuisM78/Occupancy-detection-data/master/\" + fname, \n",
    "            fname\n",
    "        )\n"
   ]
  },
  {
   "cell_type": "markdown",
   "metadata": {},
   "source": [
    "The data file contain the row number Because the data files are not valid CSV, we first load them into pandas before uploading them to the getML engine."
   ]
  },
  {
   "cell_type": "code",
   "execution_count": 5,
   "metadata": {},
   "outputs": [],
   "source": [
    "datatraining_pandas = pd.read_csv('datatraining.txt')\n",
    "datatest_pandas = pd.read_csv('datatest.txt')\n",
    "datatest2_pandas = pd.read_csv('datatest2.txt')\n",
    "\n",
    "data_train = getml.data.DataFrame.from_pandas(datatraining_pandas, name='data_train')\n",
    "data_validate = getml.data.DataFrame.from_pandas(datatest_pandas, name='data_validate')\n",
    "data_test = getml.data.DataFrame.from_pandas(datatest2_pandas, name='data_test')"
   ]
  },
  {
   "cell_type": "markdown",
   "metadata": {},
   "source": [
    "The training data set looks like this"
   ]
  },
  {
   "cell_type": "code",
   "execution_count": 6,
   "metadata": {
    "tags": [
     "hide_input"
    ]
   },
   "outputs": [
    {
     "data": {
      "text/html": [
       "<table border=\"0\" class=\"dataframe\">\n",
       "  <thead>\n",
       "    <tr style=\"text-align: right;\">\n",
       "      <th></th>\n",
       "      <th>Temperature</th>\n",
       "      <th>Humidity</th>\n",
       "      <th>Light</th>\n",
       "      <th>CO2</th>\n",
       "      <th>HumidityRatio</th>\n",
       "      <th>Occupancy</th>\n",
       "      <th>date</th>\n",
       "    </tr>\n",
       "  </thead>\n",
       "  <tbody>\n",
       "    <tr>\n",
       "      <th>0</th>\n",
       "      <td>23.18</td>\n",
       "      <td>27.2720</td>\n",
       "      <td>426.0</td>\n",
       "      <td>721.250000</td>\n",
       "      <td>0.004793</td>\n",
       "      <td>1.0</td>\n",
       "      <td>2015-02-04 17:51:00</td>\n",
       "    </tr>\n",
       "    <tr>\n",
       "      <th>1</th>\n",
       "      <td>23.15</td>\n",
       "      <td>27.2675</td>\n",
       "      <td>429.5</td>\n",
       "      <td>714.000000</td>\n",
       "      <td>0.004783</td>\n",
       "      <td>1.0</td>\n",
       "      <td>2015-02-04 17:51:59</td>\n",
       "    </tr>\n",
       "    <tr>\n",
       "      <th>2</th>\n",
       "      <td>23.15</td>\n",
       "      <td>27.2450</td>\n",
       "      <td>426.0</td>\n",
       "      <td>713.500000</td>\n",
       "      <td>0.004779</td>\n",
       "      <td>1.0</td>\n",
       "      <td>2015-02-04 17:53:00</td>\n",
       "    </tr>\n",
       "    <tr>\n",
       "      <th>3</th>\n",
       "      <td>23.15</td>\n",
       "      <td>27.2000</td>\n",
       "      <td>426.0</td>\n",
       "      <td>708.250000</td>\n",
       "      <td>0.004772</td>\n",
       "      <td>1.0</td>\n",
       "      <td>2015-02-04 17:54:00</td>\n",
       "    </tr>\n",
       "    <tr>\n",
       "      <th>4</th>\n",
       "      <td>23.10</td>\n",
       "      <td>27.2000</td>\n",
       "      <td>426.0</td>\n",
       "      <td>704.500000</td>\n",
       "      <td>0.004757</td>\n",
       "      <td>1.0</td>\n",
       "      <td>2015-02-04 17:55:00</td>\n",
       "    </tr>\n",
       "    <tr>\n",
       "      <th>...</th>\n",
       "      <td>...</td>\n",
       "      <td>...</td>\n",
       "      <td>...</td>\n",
       "      <td>...</td>\n",
       "      <td>...</td>\n",
       "      <td>...</td>\n",
       "      <td>...</td>\n",
       "    </tr>\n",
       "    <tr>\n",
       "      <th>8138</th>\n",
       "      <td>21.05</td>\n",
       "      <td>36.0975</td>\n",
       "      <td>433.0</td>\n",
       "      <td>787.250000</td>\n",
       "      <td>0.005579</td>\n",
       "      <td>1.0</td>\n",
       "      <td>2015-02-10 09:29:00</td>\n",
       "    </tr>\n",
       "    <tr>\n",
       "      <th>8139</th>\n",
       "      <td>21.05</td>\n",
       "      <td>35.9950</td>\n",
       "      <td>433.0</td>\n",
       "      <td>789.500000</td>\n",
       "      <td>0.005563</td>\n",
       "      <td>1.0</td>\n",
       "      <td>2015-02-10 09:29:59</td>\n",
       "    </tr>\n",
       "    <tr>\n",
       "      <th>8140</th>\n",
       "      <td>21.10</td>\n",
       "      <td>36.0950</td>\n",
       "      <td>433.0</td>\n",
       "      <td>798.500000</td>\n",
       "      <td>0.005596</td>\n",
       "      <td>1.0</td>\n",
       "      <td>2015-02-10 09:30:59</td>\n",
       "    </tr>\n",
       "    <tr>\n",
       "      <th>8141</th>\n",
       "      <td>21.10</td>\n",
       "      <td>36.2600</td>\n",
       "      <td>433.0</td>\n",
       "      <td>820.333333</td>\n",
       "      <td>0.005621</td>\n",
       "      <td>1.0</td>\n",
       "      <td>2015-02-10 09:32:00</td>\n",
       "    </tr>\n",
       "    <tr>\n",
       "      <th>8142</th>\n",
       "      <td>21.10</td>\n",
       "      <td>36.2000</td>\n",
       "      <td>447.0</td>\n",
       "      <td>821.000000</td>\n",
       "      <td>0.005612</td>\n",
       "      <td>1.0</td>\n",
       "      <td>2015-02-10 09:33:00</td>\n",
       "    </tr>\n",
       "  </tbody>\n",
       "</table>"
      ],
      "text/plain": [
       "<IPython.core.display.HTML object>"
      ]
     },
     "metadata": {},
     "output_type": "display_data"
    }
   ],
   "source": [
    "display(HTML(data_train.to_pandas().to_html(max_rows=10, border=0)))"
   ]
  },
  {
   "cell_type": "markdown",
   "metadata": {},
   "source": [
    "We also assign roles to each column. To learn more about what roles do and why we need them, check out the [official documentation](https://docs.getml.com/latest/user_guide/annotating_data/annotating_data.html)."
   ]
  },
  {
   "cell_type": "code",
   "execution_count": 7,
   "metadata": {},
   "outputs": [],
   "source": [
    "for df in [data_train, data_validate, data_test]:\n",
    "    df.set_role(['Occupancy'], getml.data.roles.target)\n",
    "    df.set_role(['Temperature', 'Humidity', 'Light', 'CO2', 'HumidityRatio'], getml.data.roles.numerical)\n",
    "    df.set_role(['date'], getml.data.roles.time_stamp)"
   ]
  },
  {
   "cell_type": "markdown",
   "metadata": {},
   "source": [
    "## Make the data model relational"
   ]
  },
  {
   "cell_type": "markdown",
   "metadata": {},
   "source": [
    "In order to let getML interpret the time series as relational data model, we follow a simple, well-defined procedure\n",
    "\n",
    "* Add a **dummy join key**. This is related to the self join mentioned above. If we add the same join key to every row in the data set we allow the feature engineering algorithm to establish relations between each row to all other rows in the data set. In this example, we can add a constant value to the entire data frame because we are dealing with only one big time series - most other time series data set contain more than just one time series.\n",
    "\n",
    "* Add an **upper time stamp**. Upper time stamps impose an upper limit on the validity range of a certain row. In other words, by adding an upper time stamp we can add an \"expiration date\" for each row. This tells the feature engineering algorithm up to which point in the future is may consider this row for aggregations. Upper time stamps are a bit tricky to understand at first, but once you have wrapped your head around them, they are very powerful.\n",
    "\n",
    "In SQL, a simplified version of what we are going for looks like this:"
   ]
  },
  {
   "cell_type": "markdown",
   "metadata": {},
   "source": [
    "```sql\n",
    "CREATE TABLE FEATURE_1 AS\n",
    "SELECT SOME_AGGREGATION( t2.some_column ) AS feature_1,\n",
    "       t1.join_key,\n",
    "       t1.date\n",
    "FROM data_train t1\n",
    "LEFT JOIN data_train t2\n",
    "ON t1.join_key = t2.join_key\n",
    "WHERE (...some conditions...) \n",
    "AND t2.date <= t1.date\n",
    "AND t2.upper_time_stamp > t1.date \n",
    "GROUP BY t1.join_key,\n",
    "         t1.date;\n",
    "```"
   ]
  },
  {
   "cell_type": "markdown",
   "metadata": {},
   "source": [
    "This means, the feature engineering algorithm can only aggregate values from the past (```t2.date <= t1.date```), and only up to the upper time stamp (```t2.upper_time_stamp > t1.date```)."
   ]
  },
  {
   "cell_type": "markdown",
   "metadata": {},
   "source": [
    "Before continuing to the actual analysis, we define a small helper function to convert minutes to days. This is because in getML numerical time stamps are always [interpreted as days](https://docs.getml.com/latest/user_guide/annotating_data/annotating_data.html#time-stamp) whereas in this data set everything is measured in the order of minutes"
   ]
  },
  {
   "cell_type": "code",
   "execution_count": 8,
   "metadata": {},
   "outputs": [],
   "source": [
    "def minutes(x):\n",
    "    \"\"\"Helper function to convert minutes to days.\"\"\"\n",
    "    return x / 60.0 / 24.0"
   ]
  },
  {
   "cell_type": "markdown",
   "metadata": {},
   "source": [
    "In the present example we choose to consider data within the last 10 minutes for creating our features."
   ]
  },
  {
   "cell_type": "code",
   "execution_count": 9,
   "metadata": {},
   "outputs": [],
   "source": [
    "for df in [data_train, data_validate, data_test]:\n",
    "    # Add dummy join key\n",
    "    df.add(np.ones(len(df)), 'join_key', getml.data.roles.join_key)\n",
    "    # Add upper times stamp\n",
    "    df.add(df[\"date\"] + minutes(10),  \"upper_time_stamp\", getml.data.roles.time_stamp)"
   ]
  },
  {
   "cell_type": "markdown",
   "metadata": {},
   "source": [
    "## Defining the data model\n",
    "\n",
    "Now, we need to communicate the self-join and the upper time stamps to the feature engineering algorithms. This happens when creating the data model. We join the placeholder of the population table onto it self and impose the condition regarding the upper time stamp that was discussed above."
   ]
  },
  {
   "cell_type": "code",
   "execution_count": 10,
   "metadata": {},
   "outputs": [],
   "source": [
    "# Population placeholder\n",
    "population = data_train.to_placeholder()\n",
    "\n",
    "# Peripheral placeholder (equals population placeholder)\n",
    "peripheral = data_train.to_placeholder()\n",
    "\n",
    "# Perform join with time constraints\n",
    "population.join(\n",
    "    peripheral, \n",
    "    join_key=\"join_key\", \n",
    "    time_stamp=\"date\",\n",
    "    upper_time_stamp=\"upper_time_stamp\"\n",
    ")"
   ]
  },
  {
   "cell_type": "markdown",
   "metadata": {},
   "source": [
    "### Run the analysis\n",
    "\n",
    "We use a [MultirelModel](https://docs.getml.com/latest/api/getml.models.MultirelModel.html) for generating the features and an [XGBoostClassifier](https://docs.getml.com/latest/api/getml.predictors.XGBoostClassifier.html#getml.predictors.XGBoostClassifier) for feature selection and prediction.\n",
    "\n",
    "We do not spend much effort on the hyperparameters and largely go with the default values. The only exception is that we add some regularization to the XGBoostClassifiers."
   ]
  },
  {
   "cell_type": "code",
   "execution_count": 11,
   "metadata": {},
   "outputs": [],
   "source": [
    "feature_selector = getml.predictors.XGBoostClassifier(reg_lambda=500)\n",
    "\n",
    "predictor = getml.predictors.XGBoostClassifier(reg_lambda=500)\n",
    "\n",
    "model = getml.models.MultirelModel(\n",
    "        num_features=30,\n",
    "        population=population,\n",
    "        peripheral=[peripheral],\n",
    "        loss_function=getml.models.loss_functions.CrossEntropyLoss(),\n",
    "        feature_selector=feature_selector,\n",
    "        predictor=predictor,\n",
    "        seed=1706\n",
    ")"
   ]
  },
  {
   "cell_type": "markdown",
   "metadata": {},
   "source": [
    "We now fit the model. This should take well under one minute, depending on your computer."
   ]
  },
  {
   "cell_type": "code",
   "execution_count": 12,
   "metadata": {},
   "outputs": [
    {
     "name": "stdout",
     "output_type": "stream",
     "text": [
      "Loaded data. Features are now being trained...\n",
      "Trained model.\n",
      "Time taken: 0h:0m:19.140246\n",
      "\n"
     ]
    }
   ],
   "source": [
    "model = model.fit(\n",
    "    population_table=data_train,\n",
    "    peripheral_tables=[data_train]\n",
    ")"
   ]
  },
  {
   "cell_type": "markdown",
   "metadata": {},
   "source": [
    "Let's see how well we did by scoring the model."
   ]
  },
  {
   "cell_type": "code",
   "execution_count": 13,
   "metadata": {},
   "outputs": [
    {
     "name": "stdout",
     "output_type": "stream",
     "text": [
      "Accuracy (training): 0.99460\n",
      "AUC (training): 0.99899\n",
      "\n",
      "Accuracy (testing): 0.99210\n",
      "AUC (testing): 0.99743\n"
     ]
    }
   ],
   "source": [
    "in_sample = model.score(population_table=data_train,\n",
    "              peripheral_tables=[data_train]\n",
    "             )\n",
    "out_of_sample = model.score(population_table=data_test,\n",
    "              peripheral_tables=[data_test]\n",
    "             )\n",
    "\n",
    "print(\"Accuracy (training): {:.5f}\\nAUC (training): {:.5f}\\n\\nAccuracy (testing): {:.5f}\\nAUC (testing): {:.5f}\".format(\n",
    "    in_sample['accuracy'][0], in_sample['auc'][0], out_of_sample['accuracy'][0], out_of_sample['auc'][0]))"
   ]
  },
  {
   "cell_type": "markdown",
   "metadata": {},
   "source": [
    "In the [original paper](https://www.researchgate.net/profile/Luis_Candanedo_Ibarra/publication/285627413_Accurate_occupancy_detection_of_an_office_room_from_light_temperature_humidity_and_CO2_measurements_using_statistical_learning_models/links/5b1d843ea6fdcca67b690c28/Accurate-occupancy-detection-of-an-office-room-from-light-temperature-humidity-and-CO2-measurements-using-statistical-learning-models.pdf), the authors tried several approaches. The best out-of-sample values of all the approaches they tried are the following:\n",
    "\n",
    "* Accuracy (testing): 0.99061\n",
    "* AUC (testing): 0.99574\n",
    "\n",
    "Note that our results outperform the best approach from the original paper, both in terms of accuracy as well as AUC. \n",
    "This demonstrates how powerful getML's relational learning approach is also a powerful tool for time series."
   ]
  },
  {
   "cell_type": "markdown",
   "metadata": {},
   "source": [
    "## Studying the features\n",
    "\n",
    "It is always a good idea to study the features the relational learning algorithm has extracted. We can do so in the [feature view](https://docs.getml.com/latest/user_guide/getml_suite/monitor/models.html#feature-view) of the getML monitor. Open the monitor and select the models tab in the sidebar. You will see an overview over the trained models. If you followed this tutorial, there should be only one model. Select it to see the most essential summary plots. Besides the accuracy and ROC curve of the model there are two plots related to the trained features."
   ]
  },
  {
   "cell_type": "code",
   "execution_count": 14,
   "metadata": {
    "tags": [
     "hide_input"
    ]
   },
   "outputs": [
    {
     "data": {
      "image/png": "[encoded data removed]",
      "text/plain": [
       "<IPython.core.display.Image object>"
      ]
     },
     "execution_count": 14,
     "metadata": {},
     "output_type": "execute_result"
    }
   ],
   "source": [
    "Image(filename=\"feature-1.png\")"
   ]
  },
  {
   "cell_type": "markdown",
   "metadata": {},
   "source": [
    "For each of the trained features they show the correlation with the target and the feature importance. The feature importance is calculated by XGBoost based on the improvement of the optimizing criterium at each split in the decision tree and is normalized to 100%. We first look at the most important feature. This feature is negatively correlated with the target (a correlation coefficient of -92%) and accounts for almost 64% of the total predictive power. By clicking on the feature_1 in the table below, the plots you can access more information on this feature. Most notably, its definition in SQL"
   ]
  },
  {
   "cell_type": "markdown",
   "metadata": {},
   "source": [
    "```sql\n",
    "CREATE TABLE FEATURE_1 AS\n",
    "SELECT MIN( t1.date - t2.date ) AS feature_1,\n",
    "       t1.join_key,\n",
    "       t1.date\n",
    "FROM (\n",
    "     SELECT *,\n",
    "            ROW_NUMBER() OVER ( ORDER BY join_key, date ASC ) AS rownum\n",
    "     FROM data_train\n",
    ") t1\n",
    "LEFT JOIN data_train t2\n",
    "ON t1.join_key = t2.join_key\n",
    "WHERE (\n",
    "   ( t2.Light > 458.172840 AND t1.Light > 502.583333 AND t2.Humidity > 26.403623 AND t2.Light <= 684.267857 )\n",
    "OR ( t2.Light > 458.172840 AND t1.Light <= 502.583333 AND t2.Temperature > 22.264286 AND t2.Temperature > 22.315385 )\n",
    "OR ( t2.Light > 458.172840 AND t1.Light <= 502.583333 AND t2.Temperature <= 22.264286 )\n",
    "OR ( t2.Light <= 458.172840 AND t1.date - t2.date > 0.006185 )\n",
    "OR ( t2.Light <= 458.172840 AND t1.date - t2.date <= 0.006185 AND t1.Light > 365.987395 )\n",
    "OR ( t2.Light <= 458.172840 AND t1.date - t2.date <= 0.006185 AND t1.Light <= 365.987395 AND t1.Humidity > 37.597339 )\n",
    ") AND t2.date <= t1.date\n",
    "AND ( t2.upper_time_stamp > t1.date OR t2.upper_time_stamp IS NULL )\n",
    "GROUP BY t1.rownum,\n",
    "         t1.join_key,\n",
    "         t1.date;\n",
    "```"
   ]
  },
  {
   "cell_type": "markdown",
   "metadata": {},
   "source": [
    "Simply speaking, this feature checks how long ago the light was last switched on. If that is relatively recent, it is more likely that the room is occupied. There are other factors, such as temperature and humidity that come into the equation as well.\n",
    "\n",
    "Let's go back to the feature overview and check out the second most important feature: It has a strong positive correlation with the target (92%) and accounts for 17% of the predictive power. Its SQL definition reads"
   ]
  },
  {
   "cell_type": "markdown",
   "metadata": {},
   "source": [
    "```sql\n",
    "CREATE TABLE FEATURE_2 AS\n",
    "SELECT MAX( t2.Temperature ) AS feature_2,\n",
    "       t1.join_key,\n",
    "       t1.date\n",
    "FROM (\n",
    "     SELECT *,\n",
    "            ROW_NUMBER() OVER ( ORDER BY join_key, date ASC ) AS rownum\n",
    "     FROM data_train\n",
    ") t1\n",
    "LEFT JOIN data_train t2\n",
    "ON t1.join_key = t2.join_key\n",
    "WHERE (\n",
    "   ( t1.Light > 365.007463 AND t1.Temperature > 22.625156 AND t1.Temperature > 22.659000 AND t1.Light <= 522.805556 )\n",
    "OR ( t1.Light > 365.007463 AND t1.Temperature > 22.625156 AND t1.Temperature <= 22.659000 AND t2.Temperature <= 22.622222 )\n",
    "OR ( t1.Light > 365.007463 AND t1.Temperature <= 22.625156 AND t1.Humidity > 18.924881 AND t1.date - t2.date <= 0.000661 )\n",
    ") AND t2.date <= t1.date\n",
    "AND ( t2.upper_time_stamp > t1.date OR t2.upper_time_stamp IS NULL )\n",
    "GROUP BY t1.rownum,\n",
    "         t1.join_key,\n",
    "         t1.date;\n",
    "\n",
    "```"
   ]
  },
  {
   "cell_type": "markdown",
   "metadata": {},
   "source": [
    "This feature is based on the maximum temperature in the relevant time window, given some other conditions. The higher the temperature, the more likely it is that the room is occupied.\n",
    "\n",
    "These two feature demonstrate the power of getML feature engineering algorithms. It is very unlikely to find these features using manual, trial-and-error based methods. The general structure of features found using such methods might be similar, but you would have had to put in much more effort while getting worse results.\n",
    "\n",
    "When browsing through the remaining features, you will notice that some are columns directly taken from the original table, such as *Light* and *CO2*. But these columns are less correlated and less important than the features generated with the relational model based on self-join and upper time stamps."
   ]
  },
  {
   "cell_type": "markdown",
   "metadata": {},
   "source": [
    "## Conclusion\n",
    "\n",
    "This tutorial demonstrates that relational learning is a powerful tool for time series. We able to outperform the benchmarks for a scientific paper on a simple public domain time series data set using relatively little effort.\n",
    "\n",
    "If you want to learn more about getML, check out the [official documentation](https://getml.com/product).\n",
    "\n",
    "To reproduce the results in this notebook, you can [download getML for free](https://docs.getml.com/latest/). The code this tutorial is based on is available on [GitHub](https://github.com/getml/getml-examples/blob/master/python/projects/occupancy_detection/occupancy_detection.ipynb).\n"
   ]
  }
 ],
 "metadata": {
  "celltoolbar": "Tags",
  "kernelspec": {
   "display_name": "Python 3",
   "language": "python",
   "name": "python3"
  },
  "language_info": {
   "codemirror_mode": {
    "name": "ipython",
    "version": 3
   },
   "file_extension": ".py",
   "mimetype": "text/x-python",
   "name": "python",
   "nbconvert_exporter": "python",
   "pygments_lexer": "ipython3",
   "version": "3.7.6"
  }
 },
 "nbformat": 4,
 "nbformat_minor": 2
}
